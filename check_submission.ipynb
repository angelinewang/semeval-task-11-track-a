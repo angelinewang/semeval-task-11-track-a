{
 "cells": [
  {
   "cell_type": "code",
   "execution_count": 1,
   "metadata": {},
   "outputs": [
    {
     "name": "stdout",
     "output_type": "stream",
     "text": [
      "\u001b[33mDEPRECATION: Loading egg at /Users/angwang/miniforge3/lib/python3.12/site-packages/huggingface_hub-0.27.1-py3.8.egg is deprecated. pip 25.1 will enforce this behaviour change. A possible replacement is to use pip for package installation. Discussion can be found at https://github.com/pypa/pip/issues/12330\u001b[0m\u001b[33m\n",
      "\u001b[0mRequirement already satisfied: torch in /Users/angwang/miniforge3/lib/python3.12/site-packages (from -r requirements.txt (line 1)) (2.5.1)\n",
      "Requirement already satisfied: transformers in /Users/angwang/miniforge3/lib/python3.12/site-packages (from -r requirements.txt (line 2)) (4.47.0)\n",
      "Requirement already satisfied: pandas in /Users/angwang/miniforge3/lib/python3.12/site-packages (from -r requirements.txt (line 3)) (2.2.3)\n",
      "Requirement already satisfied: numpy in /Users/angwang/miniforge3/lib/python3.12/site-packages (from -r requirements.txt (line 4)) (2.1.3)\n",
      "Requirement already satisfied: tqdm in /Users/angwang/miniforge3/lib/python3.12/site-packages (from -r requirements.txt (line 5)) (4.66.5)\n",
      "Requirement already satisfied: scikit-learn in /Users/angwang/miniforge3/lib/python3.12/site-packages (from -r requirements.txt (line 6)) (1.5.2)\n",
      "Requirement already satisfied: filelock in /Users/angwang/miniforge3/lib/python3.12/site-packages (from torch->-r requirements.txt (line 1)) (3.16.1)\n",
      "Requirement already satisfied: typing-extensions>=4.8.0 in /Users/angwang/miniforge3/lib/python3.12/site-packages (from torch->-r requirements.txt (line 1)) (4.12.2)\n",
      "Requirement already satisfied: networkx in /Users/angwang/miniforge3/lib/python3.12/site-packages (from torch->-r requirements.txt (line 1)) (3.4.2)\n",
      "Requirement already satisfied: jinja2 in /Users/angwang/miniforge3/lib/python3.12/site-packages (from torch->-r requirements.txt (line 1)) (3.1.4)\n",
      "Requirement already satisfied: fsspec in /Users/angwang/miniforge3/lib/python3.12/site-packages (from torch->-r requirements.txt (line 1)) (2024.10.0)\n",
      "Requirement already satisfied: setuptools in /Users/angwang/miniforge3/lib/python3.12/site-packages (from torch->-r requirements.txt (line 1)) (75.2.0)\n",
      "Requirement already satisfied: sympy==1.13.1 in /Users/angwang/miniforge3/lib/python3.12/site-packages (from torch->-r requirements.txt (line 1)) (1.13.1)\n",
      "Requirement already satisfied: mpmath<1.4,>=1.1.0 in /Users/angwang/miniforge3/lib/python3.12/site-packages (from sympy==1.13.1->torch->-r requirements.txt (line 1)) (1.3.0)\n",
      "Requirement already satisfied: huggingface-hub<1.0,>=0.24.0 in /Users/angwang/miniforge3/lib/python3.12/site-packages/huggingface_hub-0.27.1-py3.8.egg (from transformers->-r requirements.txt (line 2)) (0.27.1)\n",
      "Requirement already satisfied: packaging>=20.0 in /Users/angwang/miniforge3/lib/python3.12/site-packages (from transformers->-r requirements.txt (line 2)) (24.1)\n",
      "Requirement already satisfied: pyyaml>=5.1 in /Users/angwang/miniforge3/lib/python3.12/site-packages (from transformers->-r requirements.txt (line 2)) (6.0.2)\n",
      "Requirement already satisfied: regex!=2019.12.17 in /Users/angwang/miniforge3/lib/python3.12/site-packages (from transformers->-r requirements.txt (line 2)) (2024.11.6)\n",
      "Requirement already satisfied: requests in /Users/angwang/miniforge3/lib/python3.12/site-packages (from transformers->-r requirements.txt (line 2)) (2.32.3)\n",
      "Requirement already satisfied: tokenizers<0.22,>=0.21 in /Users/angwang/miniforge3/lib/python3.12/site-packages (from transformers->-r requirements.txt (line 2)) (0.21.0)\n",
      "Requirement already satisfied: safetensors>=0.4.1 in /Users/angwang/miniforge3/lib/python3.12/site-packages (from transformers->-r requirements.txt (line 2)) (0.4.5)\n",
      "Requirement already satisfied: python-dateutil>=2.8.2 in /Users/angwang/miniforge3/lib/python3.12/site-packages (from pandas->-r requirements.txt (line 3)) (2.9.0.post0)\n",
      "Requirement already satisfied: pytz>=2020.1 in /Users/angwang/miniforge3/lib/python3.12/site-packages (from pandas->-r requirements.txt (line 3)) (2024.2)\n",
      "Requirement already satisfied: tzdata>=2022.7 in /Users/angwang/miniforge3/lib/python3.12/site-packages (from pandas->-r requirements.txt (line 3)) (2024.2)\n",
      "Requirement already satisfied: scipy>=1.6.0 in /Users/angwang/miniforge3/lib/python3.12/site-packages (from scikit-learn->-r requirements.txt (line 6)) (1.14.1)\n",
      "Requirement already satisfied: joblib>=1.2.0 in /Users/angwang/miniforge3/lib/python3.12/site-packages (from scikit-learn->-r requirements.txt (line 6)) (1.4.2)\n",
      "Requirement already satisfied: threadpoolctl>=3.1.0 in /Users/angwang/miniforge3/lib/python3.12/site-packages (from scikit-learn->-r requirements.txt (line 6)) (3.5.0)\n",
      "Requirement already satisfied: six>=1.5 in /Users/angwang/miniforge3/lib/python3.12/site-packages (from python-dateutil>=2.8.2->pandas->-r requirements.txt (line 3)) (1.16.0)\n",
      "Requirement already satisfied: MarkupSafe>=2.0 in /Users/angwang/miniforge3/lib/python3.12/site-packages (from jinja2->torch->-r requirements.txt (line 1)) (3.0.2)\n",
      "Requirement already satisfied: charset-normalizer<4,>=2 in /Users/angwang/miniforge3/lib/python3.12/site-packages (from requests->transformers->-r requirements.txt (line 2)) (3.3.2)\n",
      "Requirement already satisfied: idna<4,>=2.5 in /Users/angwang/miniforge3/lib/python3.12/site-packages (from requests->transformers->-r requirements.txt (line 2)) (3.10)\n",
      "Requirement already satisfied: urllib3<3,>=1.21.1 in /Users/angwang/miniforge3/lib/python3.12/site-packages (from requests->transformers->-r requirements.txt (line 2)) (2.2.3)\n",
      "Requirement already satisfied: certifi>=2017.4.17 in /Users/angwang/miniforge3/lib/python3.12/site-packages (from requests->transformers->-r requirements.txt (line 2)) (2024.12.14)\n",
      "\u001b[33mDEPRECATION: Loading egg at /Users/angwang/miniforge3/lib/python3.12/site-packages/huggingface_hub-0.27.1-py3.8.egg is deprecated. pip 25.1 will enforce this behaviour change. A possible replacement is to use pip for package installation. Discussion can be found at https://github.com/pypa/pip/issues/12330\u001b[0m\u001b[33m\n",
      "\u001b[0mRequirement already satisfied: tabulate in /Users/angwang/miniforge3/lib/python3.12/site-packages (0.9.0)\n",
      "\u001b[33mDEPRECATION: Loading egg at /Users/angwang/miniforge3/lib/python3.12/site-packages/huggingface_hub-0.27.1-py3.8.egg is deprecated. pip 25.1 will enforce this behaviour change. A possible replacement is to use pip for package installation. Discussion can be found at https://github.com/pypa/pip/issues/12330\u001b[0m\u001b[33m\n",
      "\u001b[0mRequirement already satisfied: utils in /Users/angwang/miniforge3/lib/python3.12/site-packages (1.0.2)\n"
     ]
    }
   ],
   "source": [
    "# install dependencies and clone or update the shared task repository\n",
    "!bash settings.sh\n",
    "!pip install tabulate\n",
    "!pip install utils"
   ]
  },
  {
   "cell_type": "code",
   "execution_count": 8,
   "metadata": {},
   "outputs": [
    {
     "name": "stdout",
     "output_type": "stream",
     "text": [
      "\n",
      "==============\n",
      "Checklist:\n",
      "==============\n",
      "+--------------------------+----------+-------------------------------------------------+\n",
      "| Item                     | Status   | Comment                                         |\n",
      "+==========================+==========+=================================================+\n",
      "| Submission folder.       | Pass     | Found valid folder: track_a                     |\n",
      "+--------------------------+----------+-------------------------------------------------+\n",
      "| Submission folder.       | Pass     | Folder name: track_a, starts with \"track_\"      |\n",
      "+--------------------------+----------+-------------------------------------------------+\n",
      "| Task name.               | Pass     | Task: A                                         |\n",
      "+--------------------------+----------+-------------------------------------------------+\n",
      "| Prediction files.        | Pass     | Found 1 prediction files: pred_eng.csv          |\n",
      "+--------------------------+----------+-------------------------------------------------+\n",
      "| Prediction files.        | Pass     | All prediction files are in the correct format. |\n",
      "+--------------------------+----------+-------------------------------------------------+\n",
      "| Submission format check. | Pass     | All checks passed.                              |\n",
      "+--------------------------+----------+-------------------------------------------------+\n",
      "\n",
      "Zipping the submission file...\n",
      "Zipped folder: ./experiments/single-mlp/results/track_a.zip is ready for upload in the codabench submission page.\n",
      "\n",
      "Evaluating prediction files...\n",
      "\n",
      "\n",
      "Files format checked successfully\n",
      "\n",
      "Evaluation scores (micro) for eng track a:\n",
      "Precision: 0.6064\n",
      "Recall: 0.6477\n",
      "F1 score: 0.6264\n",
      "\n",
      "Evaluation scores (macro) for eng track a:\n",
      "Precision: 0.6036\n",
      "Recall: 0.6326\n",
      "F1 score: 0.6075\n",
      "\n"
     ]
    }
   ],
   "source": [
    "!python3 ./check_submission.py \\\n",
    "  -s ./experiments/single-mlp/results/track_a \\\n",
    "  -p dev \\\n",
    "  --zip_for_submission \\\n",
    "  --evaluate \\\n",
    "  -g ./gold_data/dev_set/ \\"
   ]
  },
  {
   "cell_type": "markdown",
   "metadata": {},
   "source": [
    "### Explanation for Participants:\n",
    "\n",
    "- **`-s` (Submission file)**: This is the path to the submission file you're trying to check. It should follow the format `pred_<language_code>_<task>.csv` (e.g., `pred_deu_a.csv` for German, track 'a').\n",
    "\n",
    "- **`-p` (Phase)**: Defines the phase of the competition you're in, either 'dev' for development or 'test' for test submissions.\n",
    "\n",
    "- **`--zip_for_submission`**: This flag will zip the submission file into a `.zip` file after it's validated and/or evaluated. It is helpful when preparing the file for upload to the competition platform.\n",
    "\n",
    "- **`--evaluate`**: This flag instructs the script to evaluate the submission file by comparing it with the provided gold standard file. It will generate evaluation metrics such as precision, recall, and F1 score.\n",
    "\n",
    "- **`-g` (Gold data file)**: This is the path to the gold data file, which contains the correct labels. This is necessary for evaluation, and the script will compare your submission to this file to compute the evaluation metrics.\n",
    "\n",
    "### Additional Notes for Participants:\n",
    "- If you are not ready to evaluate your submission or do not have a gold file, you can omit the `--evaluate` and `-g` arguments.\n",
    "- The zipped file will be created if you use the `--zip_for_submission` flag, and it will be ready for upload to the competition platform.\n"
   ]
  }
 ],
 "metadata": {
  "kernelspec": {
   "display_name": "Python 3",
   "language": "python",
   "name": "python3"
  },
  "language_info": {
   "codemirror_mode": {
    "name": "ipython",
    "version": 3
   },
   "file_extension": ".py",
   "mimetype": "text/x-python",
   "name": "python",
   "nbconvert_exporter": "python",
   "pygments_lexer": "ipython3",
   "version": "3.12.6"
  }
 },
 "nbformat": 4,
 "nbformat_minor": 2
}
