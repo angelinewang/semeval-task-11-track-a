{
 "cells": [
  {
   "cell_type": "code",
   "execution_count": 1,
   "metadata": {},
   "outputs": [],
   "source": [
    "from transformers import pipeline, AutoModelForSequenceClassification, AutoTokenizer\n",
    "import torch\n",
    "import pandas as pd\n",
    "import numpy as np\n",
    "from tqdm import tqdm"
   ]
  },
  {
   "cell_type": "code",
   "execution_count": 2,
   "metadata": {},
   "outputs": [],
   "source": [
    "from sklearn.feature_extraction.text import CountVectorizer\n",
    "from sklearn.linear_model import LogisticRegression\n",
    "from sklearn.preprocessing import OneHotEncoder\n",
    "import torch.nn as nn\n",
    "import torch.optim as optim\n",
    "from torch.utils.data import DataLoader, TensorDataset\n",
    "from nltk.corpus import stopwords\n",
    "from nltk.stem import PorterStemmer, WordNetLemmatizer\n",
    "from nltk.util import ngrams\n",
    "import spacy\n",
    "import re"
   ]
  },
  {
   "cell_type": "code",
   "execution_count": 3,
   "metadata": {},
   "outputs": [],
   "source": [
    "from sklearn.metrics import f1_score, jaccard_score, classification_report"
   ]
  },
  {
   "cell_type": "code",
   "execution_count": 4,
   "metadata": {},
   "outputs": [],
   "source": [
    "# Load data\n",
    "train = pd.read_csv('/Users/angwang/semeval-task-11-track-a/post-hoc/final-datasets/track_a/train/eng.csv')\n",
    "val = pd.read_csv('/Users/angwang/semeval-task-11-track-a/post-hoc/final-datasets/track_a/dev/eng.csv')\n",
    "test = pd.read_csv('/Users/angwang/semeval-task-11-track-a/post-hoc/final-datasets/track_a/test/eng.csv')\n",
    "\n",
    "# # Define emotions and mapping (model's labels to our labels)\n",
    "emotions = ['joy', 'sadness', 'surprise', 'fear', 'anger']\n",
    "emotion_mapping = {\n",
    "    'joy': 'joy',\n",
    "    'sadness': 'sadness',\n",
    "    'surprise': 'surprise',\n",
    "    'fear': 'fear',\n",
    "    'anger': 'anger',\n",
    "    'love': None  # We'll ignore this emotion as it's not in our target set\n",
    "}"
   ]
  },
  {
   "cell_type": "code",
   "execution_count": 5,
   "metadata": {},
   "outputs": [],
   "source": [
    "# Preprocessing Config\n",
    "config = {\n",
    "    'sep_pn': True, \n",
    "    'rm_pn': False, \n",
    "    'apply_lemmatization': True, \n",
    "    'apply_stemming': True, \n",
    "    'add_bigrams': True, \n",
    "    'rm_sw': False\n",
    "}"
   ]
  },
  {
   "cell_type": "code",
   "execution_count": 6,
   "metadata": {},
   "outputs": [],
   "source": [
    "# Load the pre-trained model and tokenizer\n",
    "model_name = \"bhadresh-savani/bert-base-uncased-emotion\"\n",
    "tokenizer = AutoTokenizer.from_pretrained(model_name)\n",
    "model = AutoModelForSequenceClassification.from_pretrained(model_name)"
   ]
  },
  {
   "cell_type": "code",
   "execution_count": 7,
   "metadata": {},
   "outputs": [],
   "source": [
    "# emolex_path = \"../NRC-Emotion-Lexicon/NRC-Emotion-Lexicon-Wordlevel-v0.92.txt\""
   ]
  },
  {
   "cell_type": "code",
   "execution_count": 8,
   "metadata": {},
   "outputs": [],
   "source": [
    "# def load_emolex(emolex_path):\n",
    "#     emolex = pd.read_csv(emolex_path, sep='\\t', header=None, names=[\"Word\", \"Emotion\", \"Association\"])\n",
    "#     # Filter to only include our target emotions\n",
    "#     emolex = emolex[emolex['Emotion'].isin(emotions)]\n",
    "    \n",
    "#     emotion_dict = {}\n",
    "#     for _, row in emolex.iterrows():\n",
    "#         if row[\"Association\"] == 1:  # Only positive associations\n",
    "#             word = row[\"Word\"].lower()  # Convert to lowercase\n",
    "#             emotion = row[\"Emotion\"].lower()\n",
    "#             if word not in emotion_dict:\n",
    "#                 emotion_dict[word] = []\n",
    "#             emotion_dict[word].append(emotion)\n",
    "    \n",
    "#     print(f\"Loaded {len(emotion_dict)} words from EmoLex\")\n",
    "#     return emotion_dict\n",
    "\n",
    "# emotion_dict = load_emolex(emolex_path)"
   ]
  },
  {
   "cell_type": "code",
   "execution_count": 12,
   "metadata": {},
   "outputs": [],
   "source": [
    "nlp = spacy.load(\"en_core_web_sm\")\n",
    "\n",
    "# Initialize emotion_matches globally before preprocessing\n",
    "# emotion_matches = {emotion: 0 for emotion in emotions}\n",
    "\n",
    "# for emotion in emotions:\n",
    "#     emotion_words = [word for word, emots in emotion_dict.items() if emotion in emots]\n",
    "#     print(f\"\\n{emotion} words in lexicon: {len(emotion_words)}\")\n",
    "#     print(\"Sample words:\", emotion_words[:5])\n",
    "\n",
    "# During preprocessing\n",
    "def pre_process(text, config):\n",
    "    # global emotion_matches  # Reference the global variable\n",
    "    \n",
    "    # original_text = text  # Save original text for EmoLex matching\n",
    "\n",
    "    # First do EmoLex matching on original text\n",
    "    # emolex_words = []\n",
    "    # if target_emotion and emotion_dict:\n",
    "    #     # Convert text to lowercase for matching\n",
    "    #     text_lower = original_text.lower()\n",
    "    #     # Find words that appear in both text and emotion lexicon\n",
    "    #     text_words = set(text_lower.split())\n",
    "    #     emolex_words = [word for word in text_words \n",
    "    #                    if word in emotion_dict \n",
    "    #                    and target_emotion in emotion_dict[word]]\n",
    "        \n",
    "    #     if emolex_words:\n",
    "    #         emotion_matches[target_emotion] += 1\n",
    "\n",
    "    def separate_punctuation(text):\n",
    "        text = re.sub(r\"(\\w)([.,;:!?'\\\"”\\)])\", r\"\\1 \\2\", text)\n",
    "        text = re.sub(r\"([.,;:!?'\\\"“\\(\\)])(\\w)\", r\"\\1 \\2\", text)\n",
    "        return text\n",
    "\n",
    "    def remove_punctuation(text):\n",
    "        text = re.sub(r\"[.,;:!?'\\\"“”\\(\\)]\", \"\", text)\n",
    "        return text\n",
    "\n",
    "    def tokenize_text(text):\n",
    "        encoded_input = tokenizer(text, return_tensors='pt', add_special_tokens=True)\n",
    "        tokens = tokenizer.convert_ids_to_tokens(encoded_input['input_ids'][0])\n",
    "        return tokens\n",
    "\n",
    "    def apply_stemming(tokens):\n",
    "        stemmer = PorterStemmer()\n",
    "        return [stemmer.stem(token) for token in tokens]\n",
    "\n",
    "    def apply_lemmatization(tokens):\n",
    "        lemmatizer = WordNetLemmatizer()\n",
    "        return [lemmatizer.lemmatize(token) for token in tokens]\n",
    "\n",
    "    def generate_ngrams_from_tokens(tokens, n):\n",
    "        return [\" \".join(gram) for gram in ngrams(tokens, n)]\n",
    "\n",
    "    # Apply config options\n",
    "    if config['sep_pn'] and not config['rm_pn']:\n",
    "        text = separate_punctuation(text)\n",
    "    if config['rm_pn'] and not config['sep_pn']:\n",
    "        text = remove_punctuation(text)\n",
    "\n",
    "    tokens = tokenize_text(text)\n",
    "    if config['apply_stemming']:\n",
    "        tokens = apply_stemming(tokens)\n",
    "    if config['apply_lemmatization']:\n",
    "        tokens = apply_lemmatization(tokens)\n",
    "    if config['add_bigrams']:\n",
    "        tokens += generate_ngrams_from_tokens(tokens, 2)\n",
    "    if config['rm_sw']:\n",
    "        stop_words = set(stopwords.words('english'))\n",
    "        tokens = [word for word in tokens if word.lower() not in stop_words]\n",
    "\n",
    "    processed_text = \" \".join(tokens)\n",
    "\n",
    "    # Finally, append EmoLex words if found\n",
    "    # if emolex_words:\n",
    "    #     processed_text = f\"{processed_text} [SEP] {' '.join(emolex_words)}\"\n",
    "    # else:\n",
    "    #     processed_text = f\"{processed_text} [SEP]\"\n",
    "    \n",
    "    return processed_text\n",
    "\n",
    "# After preprocessing\n",
    "# print(\"\\nEmotion word matches in training data:\")\n",
    "# for emotion in emotions:\n",
    "#     print(f\"{emotion}: {emotion_matches[emotion]} texts\")"
   ]
  },
  {
   "cell_type": "code",
   "execution_count": 10,
   "metadata": {},
   "outputs": [],
   "source": [
    "# Vectorizer Definition\n",
    "vectorizer = CountVectorizer()"
   ]
  },
  {
   "cell_type": "code",
   "execution_count": 13,
   "metadata": {},
   "outputs": [
    {
     "name": "stderr",
     "output_type": "stream",
     "text": [
      "  0%|          | 0/2768 [00:00<?, ?it/s]"
     ]
    },
    {
     "name": "stderr",
     "output_type": "stream",
     "text": [
      "100%|██████████| 2768/2768 [00:03<00:00, 742.25it/s] \n",
      "100%|██████████| 116/116 [00:00<00:00, 2048.49it/s]\n",
      "100%|██████████| 2767/2767 [00:01<00:00, 1870.25it/s]\n"
     ]
    }
   ],
   "source": [
    "# Reset emotion_matches before processing dataset\n",
    "# def preprocess_dataset_with_emotions(dataset, emotions, config, emotion_dict):\n",
    "#     global emotion_matches\n",
    "#     emotion_matches = {emotion: 0 for emotion in emotions}  # Reset counters\n",
    "    \n",
    "#     augmented_data = {}\n",
    "    \n",
    "#     # Process for each emotion\n",
    "#     for emotion in emotions:\n",
    "#         print(f\"\\nProcessing {emotion}:\")\n",
    "train_texts = []\n",
    "for text in tqdm(train[\"text\"]):\n",
    "    processed = pre_process(text, config)\n",
    "    train_texts.append(processed)\n",
    "\n",
    "val_texts = []\n",
    "for text in tqdm(val[\"text\"]):\n",
    "    processed = pre_process(text, config)\n",
    "    val_texts.append(processed)\n",
    "\n",
    "test_texts = []\n",
    "for text in tqdm(test[\"text\"]):\n",
    "    processed = pre_process(text, config)\n",
    "    test_texts.append(processed)\n",
    "            \n",
    "#         # Count how many texts contain emotion-specific words\n",
    "#         emotion_word_count = sum(1 for text in texts if '[SEP]' in text and not text.endswith('[SEP]'))\n",
    "#         print(f\"Texts with {emotion}-specific words: {emotion_matches[emotion]}/{len(texts)}\")\n",
    "        \n",
    "#         augmented_data[emotion] = texts\n",
    "    \n",
    "#     return augmented_data\n",
    "\n",
    "# train_augmented = preproces_dataset_with_emotions(train[\"text\"], emotions, config, emotion_dict)\n",
    "# val_augmented = preprocess_dataset_with_emotions(val[\"text\"], emotions, config, emotion_dict)\n",
    "# test_augmented = preprocess_dataset_with_emotions(test[\"text\"], emotions, config, emotion_dict)\n",
    "\n",
    "# Fit the vectorizer on the training data and transform all sets\n",
    "vectorizer = CountVectorizer()\n",
    "X_train = vectorizer.fit_transform(train_texts).toarray()\n",
    "X_val = vectorizer.transform(val_texts).toarray()\n",
    "X_test = vectorizer.transform(test_texts).toarray()"
   ]
  },
  {
   "cell_type": "code",
   "execution_count": 14,
   "metadata": {},
   "outputs": [
    {
     "name": "stderr",
     "output_type": "stream",
     "text": [
      "Device set to use cpu\n",
      "/Users/angwang/miniforge3/lib/python3.12/site-packages/transformers/pipelines/text_classification.py:106: UserWarning: `return_all_scores` is now deprecated,  if want a similar functionality use `top_k=None` instead of `return_all_scores=True` or `top_k=1` instead of `return_all_scores=False`.\n",
      "  warnings.warn(\n"
     ]
    }
   ],
   "source": [
    "# Create the emotion classifier pipeline\n",
    "classifier = pipeline(\n",
    "    \"text-classification\",\n",
    "    model=model,\n",
    "    tokenizer=tokenizer,\n",
    "    return_all_scores=True,\n",
    "    device=0 if torch.cuda.is_available() else -1  # Use GPU if available\n",
    ")"
   ]
  },
  {
   "cell_type": "code",
   "execution_count": 15,
   "metadata": {},
   "outputs": [],
   "source": [
    "def get_predictions_batch(texts, batch_size=32):\n",
    "    \"\"\"\n",
    "    Get predictions for a list of texts in batches\n",
    "    \"\"\"\n",
    "    all_predictions = []\n",
    "    \n",
    "    for i in tqdm(range(0, len(texts), batch_size), desc=\"Predicting\"):\n",
    "        batch_texts = texts[i:i + batch_size]\n",
    "        predictions = classifier(batch_texts)\n",
    "        all_predictions.extend(predictions)\n",
    "    \n",
    "    return all_predictions"
   ]
  },
  {
   "cell_type": "code",
   "execution_count": 16,
   "metadata": {},
   "outputs": [],
   "source": [
    "def format_predictions(predictions, emotion_mapping):\n",
    "    \"\"\"\n",
    "    Convert raw predictions to the required format\n",
    "    \"\"\"\n",
    "    formatted_preds = []\n",
    "    for pred in predictions:\n",
    "        # Create a dictionary of emotion scores\n",
    "        scores = {p['label']: p['score'] for p in pred}\n",
    "        # Map to our required emotions and format\n",
    "        row = [scores.get(emotion_mapping.get(e, e), 0) for e in emotions]\n",
    "        formatted_preds.append(row)\n",
    "    \n",
    "    return np.array(formatted_preds)"
   ]
  },
  {
   "cell_type": "code",
   "execution_count": 17,
   "metadata": {},
   "outputs": [],
   "source": [
    "# Convert labels to numpy arrays\n",
    "y_train = train[emotions].values\n",
    "y_val = val[emotions].values\n",
    "y_test = test[emotions].values"
   ]
  },
  {
   "cell_type": "code",
   "execution_count": 18,
   "metadata": {},
   "outputs": [],
   "source": [
    "# # POS Tagging\n",
    "# def extract_pos_tags(texts):\n",
    "#     return [[token.pos_ for token in nlp(text)] for text in texts]"
   ]
  },
  {
   "cell_type": "code",
   "execution_count": 19,
   "metadata": {},
   "outputs": [
    {
     "name": "stdout",
     "output_type": "stream",
     "text": [
      "Getting training BERT predictions...\n"
     ]
    },
    {
     "name": "stderr",
     "output_type": "stream",
     "text": [
      "Predicting: 100%|██████████| 87/87 [03:40<00:00,  2.54s/it]\n"
     ]
    },
    {
     "name": "stdout",
     "output_type": "stream",
     "text": [
      "Getting validation BERT embeddings...\n"
     ]
    },
    {
     "name": "stderr",
     "output_type": "stream",
     "text": [
      "Predicting: 100%|██████████| 4/4 [00:08<00:00,  2.14s/it]\n"
     ]
    },
    {
     "name": "stdout",
     "output_type": "stream",
     "text": [
      "Getting test BERT embeddings...\n"
     ]
    },
    {
     "name": "stderr",
     "output_type": "stream",
     "text": [
      "Predicting: 100%|██████████| 87/87 [03:21<00:00,  2.32s/it]\n"
     ]
    }
   ],
   "source": [
    "# Get BERT embeddings for training data\n",
    "print(\"Getting training BERT predictions...\")\n",
    "train_raw_preds = get_predictions_batch(train['text'].tolist())\n",
    "\n",
    "print(\"Getting validation BERT predictions...\")\n",
    "val_raw_preds = get_predictions_batch(val['text'].tolist())\n",
    "\n",
    "print(\"Getting test BERT predictions...\")\n",
    "test_raw_preds = get_predictions_batch(test['text'].tolist())\n",
    "\n",
    "# Get POS features\n",
    "# print(\"Extracting POS features...\")\n",
    "# train_pos_tags = extract_pos_tags(train[\"text\"])\n",
    "# val_pos_tags = extract_pos_tags(val[\"text\"])\n",
    "# test_pos_tags = extract_pos_tags(test[\"text\"])\n",
    "\n",
    "# POS Encoding\n",
    "# max_length = max(\n",
    "#     max(len(tags) for tags in train_pos_tags),\n",
    "#     max(len(tags) for tags in val_pos_tags),\n",
    "#     max(len(tags) for tags in test_pos_tags)\n",
    "# )\n",
    "# train_pos_tags = [tags + ['PAD'] * (max_length - len(tags)) for tags in train_pos_tags]\n",
    "# val_pos_tags = [tags + ['PAD'] * (max_length - len(tags)) for tags in val_pos_tags]\n",
    "# test_pos_tags = [tags + ['PAD'] * (max_length - len(tags)) for tags in test_pos_tags]\n",
    "\n",
    "# encoder = OneHotEncoder(sparse_output=False, handle_unknown=\"ignore\")\n",
    "# train_pos_encoded = encoder.fit_transform(train_pos_tags)\n",
    "# val_pos_encoded = encoder.transform(val_pos_tags)\n",
    "# test_pos_encoded = encoder.transform(test_pos_tags)"
   ]
  },
  {
   "cell_type": "code",
   "execution_count": 20,
   "metadata": {},
   "outputs": [],
   "source": [
    "train_bert_features = format_predictions(train_raw_preds, emotion_mapping)\n",
    "val_bert_features = format_predictions(val_raw_preds, emotion_mapping)\n",
    "test_bert_features = format_predictions(test_raw_preds, emotion_mapping)"
   ]
  },
  {
   "cell_type": "code",
   "execution_count": 21,
   "metadata": {},
   "outputs": [],
   "source": [
    "# for emotion in emotions:\n",
    "#     print(f\"Emotion: {emotion}\")\n",
    "#     print(f\"Train Vectorizer Shape: {X_train[emotion].shape}\")\n",
    "#     print(f\"Val Vectorizer Shape: {X_val[emotion].shape}\")\n",
    "#     print(f\"Train BERT Shape: {train_bert_features.shape}\")\n",
    "#     print(f\"Val BERT Shape: {val_bert_features.shape}\")\n",
    "#     print(f\"Train POS Shape: {train_pos_encoded.shape}\")\n",
    "#     print(f\"Val POS Shape: {val_pos_encoded.shape}\")"
   ]
  },
  {
   "cell_type": "code",
   "execution_count": 22,
   "metadata": {},
   "outputs": [],
   "source": [
    "# Combine features for each emotion separately\n",
    "# final_train_features = np.array(train_bert_features)\n",
    "# final_val_features = np.array(val_bert_features)\n",
    "# final_test_features = np.array(test_bert_features)\n",
    "\n",
    "# print(\"Combining features for each emotion...\")\n",
    "# for emotion in emotions:\n",
    "#     print(f\"\\nProcessing {emotion}:\")\n",
    "#     print(f\"X_train shape: {X_train[emotion].shape}\")\n",
    "#     print(f\"train_bert_features shape: {train_bert_features.shape}\")\n",
    "#     print(f\"train_pos_encoded shape: {train_pos_encoded.shape}\")\n",
    "    \n",
    "final_train_features = np.hstack([\n",
    "    X_train,\n",
    "    train_bert_features\n",
    "])\n",
    "\n",
    "final_val_features = np.hstack([\n",
    "    X_val,\n",
    "    val_bert_features\n",
    "])\n",
    "\n",
    "final_test_features = np.hstack([\n",
    "    X_test,\n",
    "    test_bert_features\n",
    "])\n",
    "#     print(f\"Final features shape for {emotion}: {final_train_features[emotion].shape}\")"
   ]
  },
  {
   "cell_type": "code",
   "execution_count": 23,
   "metadata": {},
   "outputs": [],
   "source": [
    "# Create a model for each emotion\n",
    "# models = {}\n",
    "# for emotion in emotions:\n",
    "\n",
    "input_size = final_train_features.shape[1]  # Get the feature size for all emotions\n",
    "model = nn.Sequential(\n",
    "    nn.Linear(input_size, 256),  # Use the correct input size\n",
    "    nn.BatchNorm1d(256),\n",
    "    nn.ReLU(),\n",
    "    nn.Dropout(0.3),\n",
    "    nn.Linear(256, 128),\n",
    "    nn.BatchNorm1d(128),\n",
    "    nn.ReLU(),\n",
    "    nn.Dropout(0.2),\n",
    "    nn.Linear(128, 64),\n",
    "    nn.BatchNorm1d(64),\n",
    "    nn.ReLU(),\n",
    "    nn.Linear(64, 5)\n",
    ")"
   ]
  },
  {
   "cell_type": "code",
   "execution_count": 24,
   "metadata": {},
   "outputs": [],
   "source": [
    "import matplotlib.pyplot as plt\n",
    "from torch.optim.lr_scheduler import ReduceLROnPlateau"
   ]
  },
  {
   "cell_type": "code",
   "execution_count": 25,
   "metadata": {},
   "outputs": [],
   "source": [
    "# for emotion in emotions:\n",
    "\n",
    "#     print(f\"Feature size for {emotion}: {final_train_features[emotion].shape[1]}\")"
   ]
  },
  {
   "cell_type": "code",
   "execution_count": 26,
   "metadata": {},
   "outputs": [
    {
     "name": "stderr",
     "output_type": "stream",
     "text": [
      "/Users/angwang/miniforge3/lib/python3.12/site-packages/torch/optim/lr_scheduler.py:62: UserWarning: The verbose parameter is deprecated. Please use get_last_lr() to access the learning rate.\n",
      "  warnings.warn(\n"
     ]
    },
    {
     "name": "stdout",
     "output_type": "stream",
     "text": [
      "\n",
      "Training model for all emotions on BERT predictions\n",
      "Validation features shape for all emotions on BERT predictions: torch.Size([116, 4079])\n"
     ]
    },
    {
     "name": "stderr",
     "output_type": "stream",
     "text": [
      "Training Loop:   0%|          | 1/401 [00:00<03:36,  1.85it/s]"
     ]
    },
    {
     "name": "stdout",
     "output_type": "stream",
     "text": [
      "\n",
      "Epoch 0:\n",
      "Training Loss: 0.9036, Validation Loss: 0.8251\n",
      "Macro F1: 0.5427\n",
      "\n",
      "New best model for all emotions on BERT predictions at epoch 0 with F1: 0.5427\n"
     ]
    },
    {
     "name": "stderr",
     "output_type": "stream",
     "text": [
      "Training Loop:   0%|          | 2/401 [00:01<04:53,  1.36it/s]"
     ]
    },
    {
     "name": "stdout",
     "output_type": "stream",
     "text": [
      "\n",
      "New best model for all emotions on BERT predictions at epoch 1 with F1: 0.5760\n"
     ]
    },
    {
     "name": "stderr",
     "output_type": "stream",
     "text": [
      "Training Loop:   1%|          | 4/401 [00:03<05:16,  1.25it/s]"
     ]
    },
    {
     "name": "stdout",
     "output_type": "stream",
     "text": [
      "\n",
      "New best model for all emotions on BERT predictions at epoch 3 with F1: 0.5864\n"
     ]
    },
    {
     "name": "stderr",
     "output_type": "stream",
     "text": [
      "Training Loop:   2%|▏         | 10/401 [00:07<05:07,  1.27it/s]"
     ]
    },
    {
     "name": "stdout",
     "output_type": "stream",
     "text": [
      "\n",
      "New best model for all emotions on BERT predictions at epoch 9 with F1: 0.6077\n"
     ]
    },
    {
     "name": "stderr",
     "output_type": "stream",
     "text": [
      "Training Loop:   3%|▎         | 11/401 [00:08<04:57,  1.31it/s]"
     ]
    },
    {
     "name": "stdout",
     "output_type": "stream",
     "text": [
      "\n",
      "Epoch 10:\n",
      "Training Loss: 0.1420, Validation Loss: 1.2374\n",
      "Macro F1: 0.5925\n"
     ]
    },
    {
     "name": "stderr",
     "output_type": "stream",
     "text": [
      "Training Loop:   3%|▎         | 13/401 [00:10<05:09,  1.25it/s]"
     ]
    },
    {
     "name": "stdout",
     "output_type": "stream",
     "text": [
      "\n",
      "New best model for all emotions on BERT predictions at epoch 12 with F1: 0.6114\n"
     ]
    },
    {
     "name": "stderr",
     "output_type": "stream",
     "text": [
      "Training Loop:   5%|▌         | 21/401 [00:16<05:24,  1.17it/s]"
     ]
    },
    {
     "name": "stdout",
     "output_type": "stream",
     "text": [
      "\n",
      "Epoch 20:\n",
      "Training Loss: 0.0519, Validation Loss: 1.5163\n",
      "Macro F1: 0.5595\n"
     ]
    },
    {
     "name": "stderr",
     "output_type": "stream",
     "text": [
      "Training Loop:   5%|▌         | 22/401 [00:18<05:11,  1.22it/s]"
     ]
    },
    {
     "name": "stdout",
     "output_type": "stream",
     "text": [
      "\n",
      "Early stopping triggered at epoch 22\n",
      "\n",
      "Loaded best model for all emotions from epoch 12 with F1: 0.6114\n"
     ]
    },
    {
     "name": "stderr",
     "output_type": "stream",
     "text": [
      "\n",
      "/var/folders/sx/hkqgssrx0jd_jb2_792hz_hm0000gp/T/ipykernel_43110/2309339705.py:99: FutureWarning: You are using `torch.load` with `weights_only=False` (the current default value), which uses the default pickle module implicitly. It is possible to construct malicious pickle data which will execute arbitrary code during unpickling (See https://github.com/pytorch/pytorch/blob/main/SECURITY.md#untrusted-models for more details). In a future release, the default value for `weights_only` will be flipped to `True`. This limits the functions that could be executed during unpickling. Arbitrary objects will no longer be allowed to be loaded via this mode unless they are explicitly allowlisted by the user via `torch.serialization.add_safe_globals`. We recommend you start setting `weights_only=True` for any use case where you don't have full control of the loaded file. Please open an issue on GitHub for any issues related to this experimental feature.\n",
      "  checkpoint = torch.load(f'../model_checkpoints/all_emotions_BERT_best.pth')\n"
     ]
    },
    {
     "data": {
      "image/png": "[encoded data removed]",
      "text/plain": [
       "<Figure size 1200x400 with 2 Axes>"
      ]
     },
     "metadata": {},
     "output_type": "display_data"
    }
   ],
   "source": [
    "# Training loop for each emotion\n",
    "# for emotion in emotions:\n",
    "print(f\"\\nTraining model for all emotions on BERT predictions\")\n",
    "model = model\n",
    "model.train()  # Add this to explicitly set training mode\n",
    "\n",
    "# Prepare data for this emotion\n",
    "features_tensor = torch.tensor(final_train_features, dtype=torch.float32)\n",
    "labels_tensor = torch.tensor(y_train, dtype=torch.float32)\n",
    "\n",
    "# Add validation tensors\n",
    "val_features_tensor = torch.tensor(final_val_features, dtype=torch.float32)\n",
    "val_labels_tensor = torch.tensor(y_val, dtype=torch.float32)\n",
    "print(f\"Validation features shape for all emotions on BERT predictions: {val_features_tensor.shape}\")\n",
    "\n",
    "dataset = TensorDataset(features_tensor, labels_tensor)\n",
    "data_loader = DataLoader(dataset, batch_size=32, shuffle=True)  # Increased batch size\n",
    "\n",
    "# Calculate class weights for this emotion\n",
    "# Calculate class weights for all emotions\n",
    "pos_weight = torch.tensor([(len(labels_tensor) - labels_tensor[:, i].sum()) / labels_tensor[:, i].sum() \n",
    "                          for i in range(5)])\n",
    "criterion = nn.BCEWithLogitsLoss(pos_weight=pos_weight)  # Better handling of class imbalance\n",
    "# Use Adam optimizer with learning rate scheduler\n",
    "optimizer = optim.Adam(model.parameters(), lr=1e-3, weight_decay=1e-4)\n",
    "scheduler = ReduceLROnPlateau(optimizer, mode='max', patience=5, factor=0.5, verbose=True)\n",
    "\n",
    "# Training loop\n",
    "best_f1 = 0\n",
    "patience = 10\n",
    "patience_counter = 0\n",
    "train_losses = []\n",
    "val_f1s = []\n",
    "\n",
    "for epoch in tqdm(range(401), desc=f\"Training Loop\"):\n",
    "    # Training phase\n",
    "    model.train()\n",
    "    epoch_loss = 0\n",
    "    batch_count = 0\n",
    "    \n",
    "    for features, labels in data_loader:\n",
    "        optimizer.zero_grad()\n",
    "        outputs = model(features)\n",
    "        loss = criterion(outputs, labels)\n",
    "        loss.backward()\n",
    "        optimizer.step()\n",
    "        epoch_loss += loss.item()\n",
    "        batch_count += 1\n",
    "\n",
    "    avg_train_loss = epoch_loss / batch_count\n",
    "    \n",
    "    # Validation phase\n",
    "    model.eval()\n",
    "    with torch.no_grad():\n",
    "        val_outputs = model(val_features_tensor)\n",
    "        val_preds = (torch.sigmoid(val_outputs).squeeze() > 0.5).float()\n",
    "        val_labels = val_labels_tensor.squeeze()\n",
    "        \n",
    "        # Calculate metrics\n",
    "        val_loss = criterion(val_outputs, val_labels_tensor)\n",
    "        macro_f1 = f1_score(\n",
    "            val_labels.cpu().numpy(),\n",
    "            val_preds.cpu().numpy(),\n",
    "            average='macro',\n",
    "            zero_division=0\n",
    "        )\n",
    "\n",
    "    # Learning rate scheduling\n",
    "    scheduler.step(macro_f1)\n",
    "\n",
    "    if epoch % 10 == 0:  # More frequent logging\n",
    "        print(f'\\nEpoch {epoch}:')\n",
    "        print(f'Training Loss: {avg_train_loss:.4f}, Validation Loss: {val_loss:.4f}')\n",
    "        print(f'Macro F1: {macro_f1:.4f}')\n",
    "        train_losses.append(avg_train_loss)\n",
    "        val_f1s.append(macro_f1)\n",
    "    \n",
    "    # Save best model\n",
    "    if macro_f1 > best_f1:\n",
    "        best_f1 = macro_f1\n",
    "        torch.save({\n",
    "            'epoch': epoch,\n",
    "            'model_state_dict': model.state_dict(),\n",
    "            'optimizer_state_dict': optimizer.state_dict(),\n",
    "            'loss': avg_train_loss,\n",
    "            'f1': macro_f1\n",
    "        }, f'/Users/angwang/semeval-task-11-track-a/experiments/single-mlp/model_checkpoints/all_emotions_BERT-FE_best.pth')\n",
    "        print(f\"\\nNew best model for all emotions on BERT predictions at epoch {epoch} with F1: {macro_f1:.4f}\")\n",
    "        patience_counter = 0\n",
    "    else:\n",
    "        patience_counter += 1\n",
    "\n",
    "    # Early stopping\n",
    "    if patience_counter >= patience:\n",
    "        print(f\"\\nEarly stopping triggered at epoch {epoch}\")\n",
    "        break\n",
    "\n",
    "# Load best model for this emotion\n",
    "checkpoint = torch.load(f'./model_checkpoints/all_emotions_BERT-FE_best.pth')\n",
    "model.load_state_dict(checkpoint['model_state_dict'])\n",
    "print(f\"\\nLoaded best model for all emotions from epoch {checkpoint['epoch']} with F1: {checkpoint['f1']:.4f}\")\n",
    "\n",
    "# Plot training curves\n",
    "plt.figure(figsize=(12, 4))\n",
    "\n",
    "plt.subplot(1, 2, 1)\n",
    "plt.plot(range(len(train_losses)), train_losses, label='Training Loss')\n",
    "plt.title(f'Training Loss for all emotions on BERT predictions')\n",
    "plt.xlabel('Epoch (x10)')\n",
    "plt.ylabel('Loss')\n",
    "plt.grid(True)\n",
    "plt.legend()\n",
    "\n",
    "plt.subplot(1, 2, 2)\n",
    "plt.plot(range(len(val_f1s)), val_f1s, label='Validation F1')\n",
    "plt.title(f'Validation Macro F1 for all emotions on BERT predictions')\n",
    "plt.xlabel('Epoch (x10)')\n",
    "plt.ylabel('Macro F1')\n",
    "plt.grid(True)\n",
    "plt.legend()\n",
    "\n",
    "plt.tight_layout()\n",
    "plt.show()"
   ]
  },
  {
   "cell_type": "markdown",
   "metadata": {},
   "source": [
    "### Complete same training loop for all emotions using macro F1 score"
   ]
  },
  {
   "cell_type": "code",
   "execution_count": 27,
   "metadata": {},
   "outputs": [],
   "source": [
    "# Save predictions\n",
    "def save_predictions(predictions, ids, filename):\n",
    "    df_predictions = pd.DataFrame(predictions, columns=emotions)\n",
    "    df_predictions['id'] = ids\n",
    "    df_predictions = df_predictions[['id'] + emotions]\n",
    "    df_predictions.to_csv(filename, index=False)\n",
    "    print(f\"Saved predictions to {filename}\")\n",
    "\n",
    "# Save validation and test predictions\n",
    "from datetime import datetime\n",
    "timestamp = datetime.now().strftime('%Y-%m-%d_%H_%M_%S')"
   ]
  },
  {
   "cell_type": "code",
   "execution_count": 28,
   "metadata": {},
   "outputs": [
    {
     "name": "stdout",
     "output_type": "stream",
     "text": [
      "\n",
      "Generating predictions for all emotions...\n",
      "Using best model for all emotions on BERT predictions from epoch 12 with F1: 0.611\n",
      "\n",
      "Best Results for all emotions on BERT predictions:\n",
      "Threshold: 0.5\n",
      "\n",
      "Final Validation Performance with 0.5 Threshold:\n",
      "              precision    recall  f1-score   support\n",
      "\n",
      "         joy       0.59      0.52      0.55        31\n",
      "     sadness       0.60      0.71      0.65        35\n",
      "    surprise       0.49      0.71      0.58        31\n",
      "        fear       0.66      0.70      0.68        63\n",
      "       anger       0.50      0.75      0.60        16\n",
      "\n",
      "   micro avg       0.58      0.68      0.62       176\n",
      "   macro avg       0.57      0.68      0.61       176\n",
      "weighted avg       0.59      0.68      0.63       176\n",
      " samples avg       0.57      0.61      0.55       176\n",
      "\n",
      "\n",
      "Final Test Performance with 0.5 Threshold:\n",
      "              precision    recall  f1-score   support\n",
      "\n",
      "         joy       0.52      0.56      0.54       670\n",
      "     sadness       0.55      0.58      0.57       881\n",
      "    surprise       0.52      0.64      0.58       799\n",
      "        fear       0.73      0.72      0.73      1544\n",
      "       anger       0.36      0.46      0.40       322\n",
      "\n",
      "   micro avg       0.58      0.63      0.61      4216\n",
      "   macro avg       0.54      0.59      0.56      4216\n",
      "weighted avg       0.59      0.63      0.61      4216\n",
      " samples avg       0.55      0.57      0.53      4216\n",
      "\n",
      "Saved predictions to ./results/ERT_val_2025-02-22_14_08_52.csv\n",
      "Saved predictions to ./results/BERT_test_2025-02-22_14_08_52.csv\n",
      "\n",
      "Per-emotion Validation Performance at 0.5 Threshold:\n",
      "joy: F1 = 0.701\n",
      "sadness: F1 = 0.738\n",
      "surprise: F1 = 0.687\n",
      "fear: F1 = 0.633\n",
      "anger: F1 = 0.758\n",
      "\n",
      "Per-emotion Test Performance at 0.5 Threshold:\n",
      "joy: F1 = 0.693\n",
      "sadness: F1 = 0.678\n",
      "surprise: F1 = 0.689\n",
      "fear: F1 = 0.694\n",
      "anger: F1 = 0.654\n"
     ]
    },
    {
     "name": "stderr",
     "output_type": "stream",
     "text": [
      "/var/folders/sx/hkqgssrx0jd_jb2_792hz_hm0000gp/T/ipykernel_43110/473538887.py:11: FutureWarning: You are using `torch.load` with `weights_only=False` (the current default value), which uses the default pickle module implicitly. It is possible to construct malicious pickle data which will execute arbitrary code during unpickling (See https://github.com/pytorch/pytorch/blob/main/SECURITY.md#untrusted-models for more details). In a future release, the default value for `weights_only` will be flipped to `True`. This limits the functions that could be executed during unpickling. Arbitrary objects will no longer be allowed to be loaded via this mode unless they are explicitly allowlisted by the user via `torch.serialization.add_safe_globals`. We recommend you start setting `weights_only=True` for any use case where you don't have full control of the loaded file. Please open an issue on GitHub for any issues related to this experimental feature.\n",
      "  checkpoint = torch.load(f'../model_checkpoints/all_emotions_BERT_best.pth')\n",
      "/Users/angwang/miniforge3/lib/python3.12/site-packages/sklearn/metrics/_classification.py:1531: UndefinedMetricWarning: Precision is ill-defined and being set to 0.0 in samples with no predicted labels. Use `zero_division` parameter to control this behavior.\n",
      "  _warn_prf(average, modifier, f\"{metric.capitalize()} is\", len(result))\n",
      "/Users/angwang/miniforge3/lib/python3.12/site-packages/sklearn/metrics/_classification.py:1531: UndefinedMetricWarning: Recall is ill-defined and being set to 0.0 in samples with no true labels. Use `zero_division` parameter to control this behavior.\n",
      "  _warn_prf(average, modifier, f\"{metric.capitalize()} is\", len(result))\n",
      "/Users/angwang/miniforge3/lib/python3.12/site-packages/sklearn/metrics/_classification.py:1531: UndefinedMetricWarning: F-score is ill-defined and being set to 0.0 in samples with no true nor predicted labels. Use `zero_division` parameter to control this behavior.\n",
      "  _warn_prf(average, modifier, f\"{metric.capitalize()} is\", len(result))\n",
      "/Users/angwang/miniforge3/lib/python3.12/site-packages/sklearn/metrics/_classification.py:1531: UndefinedMetricWarning: Precision is ill-defined and being set to 0.0 in samples with no predicted labels. Use `zero_division` parameter to control this behavior.\n",
      "  _warn_prf(average, modifier, f\"{metric.capitalize()} is\", len(result))\n",
      "/Users/angwang/miniforge3/lib/python3.12/site-packages/sklearn/metrics/_classification.py:1531: UndefinedMetricWarning: Recall is ill-defined and being set to 0.0 in samples with no true labels. Use `zero_division` parameter to control this behavior.\n",
      "  _warn_prf(average, modifier, f\"{metric.capitalize()} is\", len(result))\n",
      "/Users/angwang/miniforge3/lib/python3.12/site-packages/sklearn/metrics/_classification.py:1531: UndefinedMetricWarning: F-score is ill-defined and being set to 0.0 in samples with no true nor predicted labels. Use `zero_division` parameter to control this behavior.\n",
      "  _warn_prf(average, modifier, f\"{metric.capitalize()} is\", len(result))\n"
     ]
    }
   ],
   "source": [
    "# After training loop finishes for all emotions...\n",
    "\n",
    "# Make predictions for each emotion using best models\n",
    "print(\"\\nGenerating predictions for all emotions...\")\n",
    "val_preds = {}\n",
    "test_preds = {}\n",
    "\n",
    "# for emotion in emotions:\n",
    "    # Load the best model for this emotion\n",
    "model = model\n",
    "checkpoint = torch.load(f'./model_checkpoints/all_emotions_BERT-FE_best.pth')\n",
    "model.load_state_dict(checkpoint['model_state_dict'])\n",
    "model.eval()  # Set to evaluation mode\n",
    "\n",
    "print(f\"Using best model for all emotions on BERT predictions from epoch {checkpoint['epoch']} with F1: {checkpoint['f1']:.3f}\")\n",
    "\n",
    "with torch.no_grad():\n",
    "    # Get raw probabilities using sigmoid\n",
    "    val_outputs = model(torch.tensor(final_val_features, dtype=torch.float32))\n",
    "    val_probs = torch.sigmoid(val_outputs).numpy()\n",
    "    val_preds = val_probs\n",
    "    \n",
    "    test_outputs = model(torch.tensor(final_test_features, dtype=torch.float32))\n",
    "    test_probs = torch.sigmoid(test_outputs).numpy()\n",
    "    test_preds = test_probs\n",
    "\n",
    "# Combine predictions\n",
    "# val_probs = np.hstack([val_preds[emotion] for emotion in emotions])\n",
    "# test_probs = np.hstack([test_preds[emotion] for emotion in emotions])\n",
    "\n",
    "# Initialize a dictionary to store the best threshold for each emotion\n",
    "# best_thresholds = {emotion: 0 for emotion in emotions}\n",
    "# best_macro_f1s = {emotion: 0 for emotion in emotions}\n",
    "\n",
    "# Perform threshold grid search for each emotion\n",
    "# for i, emotion in enumerate(emotions):\n",
    "    # print(f\"\\nPerforming threshold grid search for {emotion}...\")\n",
    "    # thresholds = np.arange(0.1, 0.9, 0.05)\n",
    "results = []\n",
    "\n",
    "    # for threshold in tqdm(thresholds, desc=f\"Testing thresholds for {emotion}\"):\n",
    "        # Convert probabilities to binary predictions for this emotion\n",
    "val_binary_preds = (val_probs > 0.5).astype(int)\n",
    "\n",
    "# Calculate metrics\n",
    "macro_f1 = f1_score(val[emotions].values, val_binary_preds, average='macro')  # Changed from 'binary' to 'macro'\n",
    "\n",
    "results.append({\n",
    "    'threshold': 0.5,\n",
    "    'macro_f1': macro_f1\n",
    "})\n",
    "\n",
    "# Update best threshold if we found better macro F1\n",
    "# if macro_f1 > best_macro_f1s[emotion]:\n",
    "#     best_macro_f1s[emotion] = macro_f1\n",
    "#     best_thresholds[emotion] = threshold\n",
    "\n",
    "# Convert results to DataFrame and display\n",
    "results_df = pd.DataFrame(results)\n",
    "print(f\"\\nBest Results for all emotions on BERT predictions:\")\n",
    "print(f\"Threshold: 0.5\")\n",
    "# print(f\"Best Macro F1: {best_macro_f1s[emotion]:.3f}\")\n",
    "\n",
    "# Plot the threshold search results for this emotion\n",
    "# plt.figure(figsize=(10, 6))\n",
    "# plt.plot(results_df['threshold'], results_df['macro_f1'], label='Macro F1')\n",
    "# plt.axvline(x=best_thresholds[emotion], color='r', linestyle='--', label=f'Best threshold ({best_thresholds[emotion]:.3f})')\n",
    "# plt.xlabel('Threshold')\n",
    "# plt.ylabel('Macro F1 Score')\n",
    "# plt.title(f'Metric Scores vs. Threshold for {emotion}')\n",
    "# plt.legend()\n",
    "# plt.grid(True)\n",
    "# plt.show()\n",
    "\n",
    "# Generate final predictions using threshold of 0.5\n",
    "val_binary_preds = (val_probs > 0.5).astype(int)  # Direct assignment instead of zeros\n",
    "test_binary_preds = (test_probs > 0.5).astype(int)  # Direct assignment instead of zeros\n",
    "\n",
    "# for i, emotion in enumerate(emotions):\n",
    "#     val_binary_preds[:, i] = (val_probs[:, i] > best_thresholds[emotion]).astype(int)\n",
    "#     test_binary_preds[:, i] = (test_probs[:, i] > best_thresholds[emotion]).astype(int)\n",
    "\n",
    "# Print detailed performance report\n",
    "print(\"\\nFinal Validation Performance with 0.5 Threshold:\")\n",
    "print(classification_report(\n",
    "    val[emotions].values,\n",
    "    val_binary_preds,\n",
    "    target_names=emotions,\n",
    "    digits=4\n",
    "))\n",
    "\n",
    "print(\"\\nFinal Test Performance with 0.5 Threshold:\")\n",
    "print(classification_report(\n",
    "    test[emotions].values,\n",
    "    test_binary_preds,\n",
    "    target_names=emotions,\n",
    "    digits=4\n",
    "))\n",
    "\n",
    "\n",
    "# Save predictions\n",
    "timestamp = datetime.now().strftime('%Y-%m-%d_%H_%M_%S')\n",
    "\n",
    "# Save validation predictions\n",
    "save_predictions(\n",
    "    val_binary_preds,\n",
    "    val['id'],\n",
    "    f'./results/BERT-FE_val_{timestamp}.csv'\n",
    ")\n",
    "\n",
    "# Save test predictions\n",
    "save_predictions(\n",
    "    test_binary_preds,\n",
    "    test['id'],\n",
    "    f'./results/BERT-FE_test_{timestamp}.csv'\n",
    ")\n",
    "\n",
    "# Save threshold search results\n",
    "# results_df.to_csv(f'../results/threshold_search_results_dynamic_{timestamp}.csv', index=False)\n",
    "\n",
    "# Print per-emotion performance\n",
    "print(\"\\nPer-emotion Validation Performance at 0.5 Threshold:\")\n",
    "for i, emotion in enumerate(emotions):\n",
    "    emotion_f1 = f1_score(\n",
    "        val[emotions].values[:, i],\n",
    "        val_binary_preds[:, i],\n",
    "        average='macro'  # Changed from 'binary' to 'macro'\n",
    "    )\n",
    "    print(f\"{emotion}: F1 = {emotion_f1:.4f}\")\n",
    "\n",
    "print(\"\\nPer-emotion Test Performance at 0.5 Threshold:\")\n",
    "for i, emotion in enumerate(emotions):\n",
    "    emotion_f1 = f1_score(\n",
    "        test[emotions].values[:, i],\n",
    "        test_binary_preds[:, i],\n",
    "        average='macro'  # Changed from 'binary' to 'macro'\n",
    "    )\n",
    "    print(f\"{emotion}: F1 = {emotion_f1:.4f}\")\n"
   ]
  },
  {
   "cell_type": "code",
   "execution_count": 29,
   "metadata": {},
   "outputs": [],
   "source": [
    "# # Initialize a dictionary to store the best threshold for each emotion\n",
    "# best_thresholds = {emotion: 0 for emotion in emotions}\n",
    "# best_macro_f1s = {emotion: 0 for emotion in emotions}\n",
    "\n",
    "# # Create a single figure for all emotions\n",
    "# plt.figure(figsize=(12, 8))\n",
    "\n",
    "# # Define a color map for the emotions\n",
    "# color_map = {\n",
    "#     'joy': 'yellow',\n",
    "#     'sadness': 'blue',\n",
    "#     'surprise': 'purple',\n",
    "#     'fear': 'green',\n",
    "#     'anger': 'red'\n",
    "# }\n",
    "\n",
    "# # Perform threshold grid search for each emotion\n",
    "# for i, emotion in enumerate(emotions):\n",
    "#     print(f\"\\nPerforming threshold grid search for {emotion}...\")\n",
    "#     thresholds = np.arange(0.1, 0.9, 0.05)\n",
    "#     results = []\n",
    "\n",
    "#     for threshold in tqdm(thresholds, desc=f\"Testing thresholds for {emotion}\"):\n",
    "#         # Convert probabilities to binary predictions for this emotion\n",
    "#         val_binary_preds = (val_probs[:, i] > threshold).astype(int)\n",
    "        \n",
    "#         # Calculate metrics\n",
    "#         macro_f1 = f1_score(val[emotions].values[:, i], val_binary_preds, average='binary')\n",
    "#         results.append({\n",
    "#             'threshold': threshold,\n",
    "#             'macro_f1': macro_f1\n",
    "#         })\n",
    "        \n",
    "#         # Update best threshold if we found better macro F1\n",
    "#         if macro_f1 > best_macro_f1s[emotion]:\n",
    "#             best_macro_f1s[emotion] = macro_f1\n",
    "#             best_thresholds[emotion] = threshold\n",
    "\n",
    "#     # Convert results to DataFrame\n",
    "#     results_df = pd.DataFrame(results)\n",
    "    \n",
    "#     # Plot the line for this emotion\n",
    "#     plt.plot(results_df['threshold'], results_df['macro_f1'], \n",
    "#              label=f'{emotion} (best={best_thresholds[emotion]:.2f})', \n",
    "#              color=color_map[emotion])\n",
    "#     plt.axvline(x=best_thresholds[emotion], color=color_map[emotion], \n",
    "#                 linestyle='--', alpha=0.3)\n",
    "\n",
    "#     print(f\"\\nBest Results for {emotion}:\")\n",
    "#     print(f\"Best threshold: {best_thresholds[emotion]:.3f}\")\n",
    "#     print(f\"Best Macro F1: {best_macro_f1s[emotion]:.3f}\")\n",
    "\n",
    "# plt.xlabel('Threshold')\n",
    "# plt.ylabel('Macro F1 Score')\n",
    "# plt.title('Metric Scores vs. Threshold for All Emotions')\n",
    "# plt.legend()\n",
    "# plt.grid(True)\n",
    "# plt.show()\n",
    "\n",
    "# # Continue with the rest of your existing code..."
   ]
  },
  {
   "cell_type": "markdown",
   "metadata": {},
   "source": [
    "Scores for Test Set:\n",
    "\n",
    "Evaluation scores for eng track a:\n",
    "\n",
    "F1 score: micro=0.6199597841041379, macro=0.5523447943188394\n",
    "\n",
    "Emotion-level macro F1 scores:\n",
    "anger: 0.3597\n",
    "fear: 0.7426\n",
    "joy: 0.5248\n",
    "sadness: 0.5489\n",
    "surprise: 0.5857"
   ]
  },
  {
   "cell_type": "markdown",
   "metadata": {},
   "source": [
    "END FOR NOW"
   ]
  }
 ],
 "metadata": {
  "kernelspec": {
   "display_name": "base",
   "language": "python",
   "name": "python3"
  },
  "language_info": {
   "codemirror_mode": {
    "name": "ipython",
    "version": 3
   },
   "file_extension": ".py",
   "mimetype": "text/x-python",
   "name": "python",
   "nbconvert_exporter": "python",
   "pygments_lexer": "ipython3",
   "version": "3.12.6"
  }
 },
 "nbformat": 4,
 "nbformat_minor": 2
}
