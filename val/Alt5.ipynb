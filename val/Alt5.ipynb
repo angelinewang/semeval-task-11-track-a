{
 "cells": [
  {
   "cell_type": "code",
   "execution_count": 16,
   "metadata": {},
   "outputs": [],
   "source": [
    "import datetime\n",
    "import numpy as np\n",
    "import pandas as pd\n",
    "from sklearn.feature_extraction.text import CountVectorizer\n",
    "from sklearn.linear_model import LogisticRegression\n",
    "from sklearn.preprocessing import OneHotEncoder\n",
    "import torch\n",
    "import torch.nn as nn\n",
    "import torch.optim as optim\n",
    "from torch.utils.data import DataLoader, TensorDataset\n",
    "from tqdm import tqdm\n",
    "from nltk.corpus import stopwords\n",
    "from nltk.stem import PorterStemmer, WordNetLemmatizer\n",
    "from transformers import BertTokenizer\n",
    "from nltk.util import ngrams\n",
    "from nltk.sentiment import SentimentIntensityAnalyzer\n",
    "import spacy\n",
    "import re\n",
    "from collections import Counter"
   ]
  },
  {
   "cell_type": "code",
   "execution_count": 17,
   "metadata": {},
   "outputs": [
    {
     "name": "stderr",
     "output_type": "stream",
     "text": [
      "[nltk_data] Downloading package wordnet to\n",
      "[nltk_data]     C:\\Users\\agupt\\AppData\\Roaming\\nltk_data...\n",
      "[nltk_data]   Package wordnet is already up-to-date!\n",
      "[nltk_data] Downloading package punkt to\n",
      "[nltk_data]     C:\\Users\\agupt\\AppData\\Roaming\\nltk_data...\n",
      "[nltk_data]   Package punkt is already up-to-date!\n",
      "[nltk_data] Downloading package omw-1.4 to\n",
      "[nltk_data]     C:\\Users\\agupt\\AppData\\Roaming\\nltk_data...\n",
      "[nltk_data]   Package omw-1.4 is already up-to-date!\n",
      "[nltk_data] Downloading package stopwords to\n",
      "[nltk_data]     C:\\Users\\agupt\\AppData\\Roaming\\nltk_data...\n",
      "[nltk_data]   Package stopwords is already up-to-date!\n",
      "[nltk_data] Downloading package vader_lexicon to\n",
      "[nltk_data]     C:\\Users\\agupt\\AppData\\Roaming\\nltk_data...\n",
      "[nltk_data]   Package vader_lexicon is already up-to-date!\n"
     ]
    },
    {
     "data": {
      "text/plain": [
       "True"
      ]
     },
     "execution_count": 17,
     "metadata": {},
     "output_type": "execute_result"
    }
   ],
   "source": [
    "import nltk\n",
    "\n",
    "nltk.download(\"wordnet\")\n",
    "nltk.download(\"punkt\")\n",
    "nltk.download('omw-1.4')\n",
    "nltk.download('stopwords')\n",
    "nltk.download('vader_lexicon')"
   ]
  },
  {
   "cell_type": "code",
   "execution_count": 18,
   "metadata": {},
   "outputs": [
    {
     "data": {
      "text/html": [
       "<div>\n",
       "<style scoped>\n",
       "    .dataframe tbody tr th:only-of-type {\n",
       "        vertical-align: middle;\n",
       "    }\n",
       "\n",
       "    .dataframe tbody tr th {\n",
       "        vertical-align: top;\n",
       "    }\n",
       "\n",
       "    .dataframe thead th {\n",
       "        text-align: right;\n",
       "    }\n",
       "</style>\n",
       "<table border=\"1\" class=\"dataframe\">\n",
       "  <thead>\n",
       "    <tr style=\"text-align: right;\">\n",
       "      <th></th>\n",
       "      <th>Anger</th>\n",
       "      <th>Fear</th>\n",
       "      <th>Joy</th>\n",
       "      <th>Sadness</th>\n",
       "      <th>Surprise</th>\n",
       "    </tr>\n",
       "  </thead>\n",
       "  <tbody>\n",
       "    <tr>\n",
       "      <th>count</th>\n",
       "      <td>2768.000000</td>\n",
       "      <td>2768.000000</td>\n",
       "      <td>2768.000000</td>\n",
       "      <td>2768.000000</td>\n",
       "      <td>2768.000000</td>\n",
       "    </tr>\n",
       "    <tr>\n",
       "      <th>mean</th>\n",
       "      <td>0.120303</td>\n",
       "      <td>0.582009</td>\n",
       "      <td>0.243497</td>\n",
       "      <td>0.317197</td>\n",
       "      <td>0.303107</td>\n",
       "    </tr>\n",
       "    <tr>\n",
       "      <th>std</th>\n",
       "      <td>0.325375</td>\n",
       "      <td>0.493318</td>\n",
       "      <td>0.429270</td>\n",
       "      <td>0.465469</td>\n",
       "      <td>0.459684</td>\n",
       "    </tr>\n",
       "    <tr>\n",
       "      <th>min</th>\n",
       "      <td>0.000000</td>\n",
       "      <td>0.000000</td>\n",
       "      <td>0.000000</td>\n",
       "      <td>0.000000</td>\n",
       "      <td>0.000000</td>\n",
       "    </tr>\n",
       "    <tr>\n",
       "      <th>25%</th>\n",
       "      <td>0.000000</td>\n",
       "      <td>0.000000</td>\n",
       "      <td>0.000000</td>\n",
       "      <td>0.000000</td>\n",
       "      <td>0.000000</td>\n",
       "    </tr>\n",
       "    <tr>\n",
       "      <th>50%</th>\n",
       "      <td>0.000000</td>\n",
       "      <td>1.000000</td>\n",
       "      <td>0.000000</td>\n",
       "      <td>0.000000</td>\n",
       "      <td>0.000000</td>\n",
       "    </tr>\n",
       "    <tr>\n",
       "      <th>75%</th>\n",
       "      <td>0.000000</td>\n",
       "      <td>1.000000</td>\n",
       "      <td>0.000000</td>\n",
       "      <td>1.000000</td>\n",
       "      <td>1.000000</td>\n",
       "    </tr>\n",
       "    <tr>\n",
       "      <th>max</th>\n",
       "      <td>1.000000</td>\n",
       "      <td>1.000000</td>\n",
       "      <td>1.000000</td>\n",
       "      <td>1.000000</td>\n",
       "      <td>1.000000</td>\n",
       "    </tr>\n",
       "  </tbody>\n",
       "</table>\n",
       "</div>"
      ],
      "text/plain": [
       "             Anger         Fear          Joy      Sadness     Surprise\n",
       "count  2768.000000  2768.000000  2768.000000  2768.000000  2768.000000\n",
       "mean      0.120303     0.582009     0.243497     0.317197     0.303107\n",
       "std       0.325375     0.493318     0.429270     0.465469     0.459684\n",
       "min       0.000000     0.000000     0.000000     0.000000     0.000000\n",
       "25%       0.000000     0.000000     0.000000     0.000000     0.000000\n",
       "50%       0.000000     1.000000     0.000000     0.000000     0.000000\n",
       "75%       0.000000     1.000000     0.000000     1.000000     1.000000\n",
       "max       1.000000     1.000000     1.000000     1.000000     1.000000"
      ]
     },
     "execution_count": 18,
     "metadata": {},
     "output_type": "execute_result"
    }
   ],
   "source": [
    "# Load Data\n",
    "train = pd.read_csv('../public_data/train/track_a/eng.csv')\n",
    "val = pd.read_csv('../public_data/dev/track_a/eng_a.csv')\n",
    "emotions = ['Joy', 'Sadness', 'Surprise', 'Fear', 'Anger']\n",
    "\n",
    "train.describe()"
   ]
  },
  {
   "cell_type": "code",
   "execution_count": 19,
   "metadata": {},
   "outputs": [
    {
     "name": "stdout",
     "output_type": "stream",
     "text": [
      "<class 'pandas.core.frame.DataFrame'>\n",
      "RangeIndex: 2768 entries, 0 to 2767\n",
      "Data columns (total 7 columns):\n",
      " #   Column    Non-Null Count  Dtype \n",
      "---  ------    --------------  ----- \n",
      " 0   id        2768 non-null   object\n",
      " 1   text      2768 non-null   object\n",
      " 2   Anger     2768 non-null   int64 \n",
      " 3   Fear      2768 non-null   int64 \n",
      " 4   Joy       2768 non-null   int64 \n",
      " 5   Sadness   2768 non-null   int64 \n",
      " 6   Surprise  2768 non-null   int64 \n",
      "dtypes: int64(5), object(2)\n",
      "memory usage: 151.5+ KB\n"
     ]
    }
   ],
   "source": [
    "train.info()"
   ]
  },
  {
   "cell_type": "code",
   "execution_count": 20,
   "metadata": {},
   "outputs": [
    {
     "name": "stdout",
     "output_type": "stream",
     "text": [
      "<class 'pandas.core.frame.DataFrame'>\n",
      "RangeIndex: 116 entries, 0 to 115\n",
      "Data columns (total 7 columns):\n",
      " #   Column    Non-Null Count  Dtype  \n",
      "---  ------    --------------  -----  \n",
      " 0   id        116 non-null    object \n",
      " 1   text      116 non-null    object \n",
      " 2   Anger     0 non-null      float64\n",
      " 3   Fear      0 non-null      float64\n",
      " 4   Joy       0 non-null      float64\n",
      " 5   Sadness   0 non-null      float64\n",
      " 6   Surprise  0 non-null      float64\n",
      "dtypes: float64(5), object(2)\n",
      "memory usage: 6.5+ KB\n"
     ]
    }
   ],
   "source": [
    "val.info()"
   ]
  },
  {
   "cell_type": "code",
   "execution_count": 21,
   "metadata": {},
   "outputs": [],
   "source": [
    "# Preprocessing Config\n",
    "config = {'sep_pn': True, 'rm_pn': False, 'apply_lemmatization': True, 'apply_stemming': True, 'add_bigrams': True, 'rm_sw': False}\n",
    "\n",
    "# Preprocessing Functions\n",
    "tokenizer = BertTokenizer.from_pretrained('bert-base-uncased')\n",
    "nlp = spacy.load(\"en_core_web_sm\")\n",
    "\n",
    "# Initialize VADER sentiment analyzer\n",
    "sia = SentimentIntensityAnalyzer()\n",
    "\n",
    "# Get English stopwords\n",
    "stop_words = set(stopwords.words('english'))"
   ]
  },
  {
   "cell_type": "code",
   "execution_count": null,
   "metadata": {},
   "outputs": [
    {
     "name": "stderr",
     "output_type": "stream",
     "text": [
      "Training Loop:   0%|          | 1/400 [00:01<07:58,  1.20s/it]"
     ]
    },
    {
     "name": "stdout",
     "output_type": "stream",
     "text": [
      "Epoch 0: Loss: 0.866\n",
      "Saved epoch 0 weights to './28-12-24/net_epoch_0.pth'\n"
     ]
    },
    {
     "name": "stderr",
     "output_type": "stream",
     "text": [
      "Training Loop:  25%|██▌       | 101/400 [01:38<04:53,  1.02it/s]"
     ]
    },
    {
     "name": "stdout",
     "output_type": "stream",
     "text": [
      "Epoch 100: Loss: 0.953\n",
      "Saved epoch 100 weights to './28-12-24/net_epoch_100.pth'\n"
     ]
    },
    {
     "name": "stderr",
     "output_type": "stream",
     "text": [
      "Training Loop:  50%|█████     | 201/400 [03:30<03:49,  1.15s/it]"
     ]
    },
    {
     "name": "stdout",
     "output_type": "stream",
     "text": [
      "Epoch 200: Loss: 0.854\n",
      "Saved epoch 200 weights to './28-12-24/net_epoch_200.pth'\n"
     ]
    },
    {
     "name": "stderr",
     "output_type": "stream",
     "text": [
      "Training Loop:  75%|███████▌  | 301/400 [05:22<01:59,  1.21s/it]"
     ]
    },
    {
     "name": "stdout",
     "output_type": "stream",
     "text": [
      "Epoch 300: Loss: 0.869\n",
      "Saved epoch 300 weights to './28-12-24/net_epoch_300.pth'\n"
     ]
    },
    {
     "name": "stderr",
     "output_type": "stream",
     "text": [
      "Training Loop: 100%|██████████| 400/400 [06:54<00:00,  1.04s/it]\n"
     ]
    }
   ],
   "source": [
    "def pre_process(text, config):\n",
    "    def separate_punctuation(text):\n",
    "        text = re.sub(r\"(\\w)([.,;:!?'\\\"”\\)])\", r\"\\1 \\2\", text)\n",
    "        text = re.sub(r\"([.,;:!?'\\\"“\\(\\)])(\\w)\", r\"\\1 \\2\", text)\n",
    "        return text\n",
    "\n",
    "    def remove_punctuation(text):\n",
    "        text = re.sub(r\"[.,;:!?'\\\"“”\\(\\)]\", \"\", text)\n",
    "        return text\n",
    "\n",
    "    def tokenize_text(text):\n",
    "        encoded_input = tokenizer(text, return_tensors='pt', add_special_tokens=True)\n",
    "        tokens = tokenizer.convert_ids_to_tokens(encoded_input['input_ids'][0])\n",
    "        return tokens\n",
    "\n",
    "    def apply_stemming(tokens):\n",
    "        stemmer = PorterStemmer()\n",
    "        return [stemmer.stem(token) for token in tokens]\n",
    "\n",
    "    def apply_lemmatization(tokens):\n",
    "        lemmatizer = WordNetLemmatizer()\n",
    "        return [lemmatizer.lemmatize(token) for token in tokens]\n",
    "\n",
    "    def generate_ngrams_from_tokens(tokens, n):\n",
    "        return [\" \".join(gram) for gram in ngrams(tokens, n)]\n",
    "\n",
    "    def filter_text_dynamic(text):\n",
    "        # Lowercase and remove punctuation\n",
    "        text = text.lower()\n",
    "        text = re.sub(r'[^\\w\\s]', '', text)\n",
    "        \n",
    "        # Score words based on sentiment\n",
    "        words = text.split()\n",
    "        relevant_words = [\n",
    "            word for word in words\n",
    "            if word not in stop_words and sia.polarity_scores(word)['pos'] > 0.5  # Adjust threshold as needed\n",
    "        ]\n",
    "        \n",
    "        return \" \".join(relevant_words)\n",
    "\n",
    "    def remove_top_words(text, top_n=10):\n",
    "        # Count word frequencies\n",
    "        word_counts = Counter(text.split())\n",
    "        \n",
    "        # Identify the top N words\n",
    "        top_words = [word for word, _ in word_counts.most_common(top_n)]\n",
    "        \n",
    "        # Filter out top words from text\n",
    "        filtered_text = \" \".join(word for word in text.split() if word not in top_words)\n",
    "        \n",
    "        return filtered_text\n",
    "    \n",
    "    \n",
    "    filtered_text = filter_text_dynamic(text)\n",
    "    \n",
    "    # Remove top words from the filtered text\n",
    "    text = remove_top_words(filtered_text, top_n=8)\n",
    "\n",
    "    # Apply config options\n",
    "    if config['sep_pn'] and not config['rm_pn']:\n",
    "        text = separate_punctuation(text)\n",
    "    if config['rm_pn'] and not config['sep_pn']:\n",
    "        text = remove_punctuation(text)\n",
    "\n",
    "    tokens = tokenize_text(text)\n",
    "    if config['apply_stemming']:\n",
    "        tokens = apply_stemming(tokens)\n",
    "    if config['apply_lemmatization']:\n",
    "        tokens = apply_lemmatization(tokens)\n",
    "    if config['add_bigrams']:\n",
    "        tokens += generate_ngrams_from_tokens(tokens, 2)\n",
    "    if config['rm_sw']:\n",
    "        tokens = [word for word in tokens if word.lower() not in stop_words]\n",
    "\n",
    "    return \" \".join(tokens)\n",
    "\n",
    "# Preprocess and Extract Features\n",
    "vectorizer = CountVectorizer()\n",
    "\n",
    "train_text = [pre_process(text, config) for text in train[\"text\"]]\n",
    "val_text = [pre_process(text, config) for text in val[\"text\"]]\n",
    "\n",
    "X_train = vectorizer.fit_transform(train_text).toarray()\n",
    "X_val = vectorizer.transform(val_text).toarray()\n",
    "\n",
    "# POS Tagging\n",
    "def extract_pos_tags(texts):\n",
    "    return [[token.pos_ for token in nlp(text)] for text in texts]\n",
    "\n",
    "train_pos_tags = extract_pos_tags(train[\"text\"])\n",
    "val_pos_tags = extract_pos_tags(val[\"text\"])\n",
    "\n",
    "# POS Encoding\n",
    "max_length = max(max(len(tags) for tags in train_pos_tags), max(len(tags) for tags in val_pos_tags))\n",
    "train_pos_tags = [tags + ['PAD'] * (max_length - len(tags)) for tags in train_pos_tags]\n",
    "val_pos_tags = [tags + ['PAD'] * (max_length - len(tags)) for tags in val_pos_tags]\n",
    "\n",
    "encoder = OneHotEncoder(sparse_output=False, handle_unknown=\"ignore\")\n",
    "train_pos_encoded = encoder.fit_transform(train_pos_tags)\n",
    "val_pos_encoded = encoder.transform(val_pos_tags)\n",
    "\n",
    "# Combine Features\n",
    "combined_features = np.concatenate((X_train, train_pos_encoded), axis=1)\n",
    "validation_combined_features = np.concatenate((X_val, val_pos_encoded), axis=1)\n",
    "\n",
    "# Logistic Regression for Enhanced Features\n",
    "y_train = train[emotions].values\n",
    "lr = LogisticRegression(max_iter=1000)\n",
    "lr.fit(combined_features, np.argmax(y_train, axis=1))\n",
    "\n",
    "lr_features = lr.predict_proba(combined_features)\n",
    "val_lr_features = lr.predict_proba(validation_combined_features)\n",
    "\n",
    "final_train_features = np.concatenate((combined_features, lr_features), axis=1)\n",
    "final_val_features = np.concatenate((validation_combined_features, val_lr_features), axis=1)\n",
    "\n",
    "# Neural Network\n",
    "model = nn.Sequential(\n",
    "    nn.Linear(final_train_features.shape[1], 128),\n",
    "    nn.BatchNorm1d(128),\n",
    "    nn.ReLU(),\n",
    "    nn.Dropout(0.4),\n",
    "    nn.Linear(128, 64),\n",
    "    nn.ReLU(),\n",
    "    nn.Linear(64, y_train.shape[1])\n",
    ")\n",
    "\n",
    "# DataLoader\n",
    "features_tensor = torch.tensor(final_train_features, dtype=torch.float32)\n",
    "labels_tensor = torch.tensor(y_train, dtype=torch.float32)\n",
    "dataset = TensorDataset(features_tensor, labels_tensor)\n",
    "data_loader = DataLoader(dataset, batch_size=16, shuffle=True)\n",
    "\n",
    "weights = y_train.sum(axis=0)/y_train.sum()\n",
    "weights = max(weights)/weights\n",
    "\n",
    "# Loss and Optimizer\n",
    "# criterion = nn.BCEWithLogitsLoss()\n",
    "# optimizer = optim.Adam(model.parameters(), lr=1e-4, weight_decay=1e-4)\n",
    "\n",
    "criterion = nn.BCEWithLogitsLoss(pos_weight=torch.Tensor(weights)) # <-- weights assigned to optimiser\n",
    "optimizer = optim.SGD(model.parameters(), lr=1e-4, weight_decay=1e-4) # lr=1e-4\n",
    "\n",
    "# Training Loop\n",
    "losses = []\n",
    "for epoch in tqdm(range(401), desc=\"Training Loop\"):\n",
    "    for features, labels in data_loader:\n",
    "        optimizer.zero_grad()\n",
    "        outputs = model(features)\n",
    "        loss = criterion(outputs, labels)\n",
    "        loss.backward()\n",
    "        optimizer.step()\n",
    "    # if epoch % 100 == 0:\n",
    "    #     print(f\"Epoch {epoch}: Loss: {round(loss.item(), 3)}\")\n",
    "    # losses.append(loss.item())\n",
    "    if epoch % 100 == 0:\n",
    "        print(f'Epoch {epoch}: Loss: {round(loss.item(),3)}')\n",
    "        # Save the trained model's weights for future use.\n",
    "        torch.save(model.state_dict(), f'./28-12-24/net_epoch_{epoch}.pth')\n",
    "        print(f\"Saved epoch {epoch} weights to './28-12-24/net_epoch_{epoch}.pth'\")\n",
    "        losses.append(round(loss.item(),3))\n",
    "    if epoch == 400:\n",
    "        print(f'Epoch {epoch}: Loss: {round(loss.item(),3)}')\n",
    "        # Save the trained model's weights for future use.\n",
    "        torch.save(model.state_dict(), f'./28-12-24/net_epoch_{epoch}.pth')\n",
    "        print(f\"Saved epoch {epoch} weights to './28-12-24/net_epoch_{epoch}.pth'\")\n",
    "        losses.append(round(loss.item(),3))"
   ]
  },
  {
   "cell_type": "code",
   "execution_count": 23,
   "metadata": {},
   "outputs": [
    {
     "name": "stdout",
     "output_type": "stream",
     "text": [
      "Final Loss after 400 epochs: 0.869\n"
     ]
    }
   ],
   "source": [
    "# Final Loss\n",
    "print(f\"Final Loss after 400 epochs: {losses[-1]}\")"
   ]
  },
  {
   "cell_type": "code",
   "execution_count": 24,
   "metadata": {},
   "outputs": [
    {
     "data": {
      "text/plain": [
       "(array([[2.00000000e+00, 2.00000000e+00, 0.00000000e+00, ...,\n",
       "         9.72431924e-02, 8.20620133e-02, 2.41632159e-03],\n",
       "        [2.00000000e+00, 2.00000000e+00, 0.00000000e+00, ...,\n",
       "         4.20778798e-02, 3.80786596e-01, 2.05603399e-03],\n",
       "        [2.00000000e+00, 2.00000000e+00, 0.00000000e+00, ...,\n",
       "         1.21560692e-02, 7.75566496e-04, 8.83292122e-04],\n",
       "        ...,\n",
       "        [2.00000000e+00, 2.00000000e+00, 0.00000000e+00, ...,\n",
       "         2.07497895e-01, 1.09930734e-01, 9.31251721e-03],\n",
       "        [2.00000000e+00, 2.00000000e+00, 0.00000000e+00, ...,\n",
       "         1.47244021e-01, 1.85247861e-01, 2.16231444e-02],\n",
       "        [2.00000000e+00, 2.00000000e+00, 0.00000000e+00, ...,\n",
       "         1.86241264e-01, 1.96467068e-01, 3.95471003e-02]]),\n",
       " [0.866, 0.953, 0.854, 0.869])"
      ]
     },
     "execution_count": 24,
     "metadata": {},
     "output_type": "execute_result"
    }
   ],
   "source": [
    "final_val_features, losses"
   ]
  },
  {
   "cell_type": "code",
   "execution_count": 25,
   "metadata": {},
   "outputs": [
    {
     "data": {
      "text/plain": [
       "[<matplotlib.lines.Line2D at 0x1e8088939a0>]"
      ]
     },
     "execution_count": 25,
     "metadata": {},
     "output_type": "execute_result"
    },
    {
     "data": {
      "image/png": "[encoded data removed]",
      "text/plain": [
       "<Figure size 640x480 with 1 Axes>"
      ]
     },
     "metadata": {},
     "output_type": "display_data"
    }
   ],
   "source": [
    "import matplotlib.pyplot as plt\n",
    "\n",
    "eps = [100*i for i in range(0,4)]\n",
    "\n",
    "plt.plot(eps, losses)"
   ]
  },
  {
   "cell_type": "code",
   "execution_count": 26,
   "metadata": {},
   "outputs": [],
   "source": [
    "def get_predictions(X_val, model, threshold=0.5):\n",
    "    sig = nn.Sigmoid() \n",
    "    yhat = sig(model(X_val)).detach().numpy()\n",
    "    y_pred = yhat > threshold\n",
    "    \n",
    "    return y_pred\n",
    "\n",
    "# y_pred = get_predictions(torch.Tensor(final_val_features), model, 0.45)\n",
    "# # print(y_pred)\n",
    "\n",
    "# # Create a DataFrame to save to CSV\n",
    "# val_data_with_pred = pd.DataFrame(y_pred, columns=['Anger', 'Fear', 'Joy', 'Sadness', 'Surprise'])  # Adjust column names as per your features\n",
    "# # val_data_with_pred['True_Label'] = y_test\n",
    "# # val_data_with_pred['Predictions'] = dummy_predictions\n",
    "\n",
    "# val_data_with_pred = val_data_with_pred.astype(int)\n",
    "\n",
    "# val_data_with_pred['id'] = val['id']\n",
    "\n",
    "# val_data_with_pred = val_data_with_pred[['id', 'Anger', 'Fear', 'Joy', 'Sadness', 'Surprise']]\n",
    "\n",
    "# # Save to CSV\n",
    "# current_time = datetime.datetime.now()\n",
    "# formatted_time = current_time.strftime('%Y-%m-%d_%H_%M_%S')\n",
    "\n",
    "# val_data_with_pred.to_csv(f'../results/pred_eng_a_{formatted_time}.csv', index=False)\n",
    "\n",
    "# print(val_data_with_pred)"
   ]
  },
  {
   "cell_type": "code",
   "execution_count": 28,
   "metadata": {},
   "outputs": [
    {
     "name": "stdout",
     "output_type": "stream",
     "text": [
      "                        id  Anger  Fear  Joy  Sadness  Surprise\n",
      "0    eng_dev_track_a_00001      1     0    1        1         1\n",
      "1    eng_dev_track_a_00002      1     1    1        1         1\n",
      "2    eng_dev_track_a_00003      1     1    1        1         1\n",
      "3    eng_dev_track_a_00004      1     0    1        1         1\n",
      "4    eng_dev_track_a_00005      1     1    0        1         1\n",
      "..                     ...    ...   ...  ...      ...       ...\n",
      "111  eng_dev_track_a_00112      1     0    1        1         1\n",
      "112  eng_dev_track_a_00113      1     1    0        1         1\n",
      "113  eng_dev_track_a_00114      1     1    1        1         1\n",
      "114  eng_dev_track_a_00115      0     1    1        1         1\n",
      "115  eng_dev_track_a_00116      1     1    1        1         1\n",
      "\n",
      "[116 rows x 6 columns]\n",
      "                        id  Anger  Fear  Joy  Sadness  Surprise\n",
      "0    eng_dev_track_a_00001      0     0    1        1         1\n",
      "1    eng_dev_track_a_00002      1     1    1        1         1\n",
      "2    eng_dev_track_a_00003      0     0    1        1         0\n",
      "3    eng_dev_track_a_00004      1     1    1        1         1\n",
      "4    eng_dev_track_a_00005      0     1    0        1         0\n",
      "..                     ...    ...   ...  ...      ...       ...\n",
      "111  eng_dev_track_a_00112      0     1    1        1         0\n",
      "112  eng_dev_track_a_00113      1     1    1        1         1\n",
      "113  eng_dev_track_a_00114      1     1    1        1         1\n",
      "114  eng_dev_track_a_00115      0     0    1        1         1\n",
      "115  eng_dev_track_a_00116      0     1    1        1         1\n",
      "\n",
      "[116 rows x 6 columns]\n",
      "                        id  Anger  Fear  Joy  Sadness  Surprise\n",
      "0    eng_dev_track_a_00001      0     0    1        1         0\n",
      "1    eng_dev_track_a_00002      1     0    0        1         0\n",
      "2    eng_dev_track_a_00003      1     0    1        1         0\n",
      "3    eng_dev_track_a_00004      0     1    1        1         0\n",
      "4    eng_dev_track_a_00005      1     1    0        1         0\n",
      "..                     ...    ...   ...  ...      ...       ...\n",
      "111  eng_dev_track_a_00112      0     0    1        1         0\n",
      "112  eng_dev_track_a_00113      1     0    1        1         0\n",
      "113  eng_dev_track_a_00114      1     0    1        1         0\n",
      "114  eng_dev_track_a_00115      0     1    1        1         0\n",
      "115  eng_dev_track_a_00116      0     1    1        1         1\n",
      "\n",
      "[116 rows x 6 columns]\n",
      "                        id  Anger  Fear  Joy  Sadness  Surprise\n",
      "0    eng_dev_track_a_00001      0     0    1        1         0\n",
      "1    eng_dev_track_a_00002      0     1    0        1         0\n",
      "2    eng_dev_track_a_00003      1     0    1        1         0\n",
      "3    eng_dev_track_a_00004      0     1    0        1         0\n",
      "4    eng_dev_track_a_00005      1     1    0        1         0\n",
      "..                     ...    ...   ...  ...      ...       ...\n",
      "111  eng_dev_track_a_00112      0     0    1        1         0\n",
      "112  eng_dev_track_a_00113      1     0    0        1         1\n",
      "113  eng_dev_track_a_00114      0     0    1        1         0\n",
      "114  eng_dev_track_a_00115      0     1    1        1         0\n",
      "115  eng_dev_track_a_00116      0     0    1        1         1\n",
      "\n",
      "[116 rows x 6 columns]\n"
     ]
    }
   ],
   "source": [
    "# DO 10 different prediction files with epochs 100, 200, 300, 400, 500, 600, 700, 800, 900 and 1000 Model parameters\n",
    "\n",
    "# Get 10 differen prediction files\n",
    "\n",
    "for i in range(4):\n",
    "    epoch = i*100\n",
    "    model.load_state_dict(torch.load(f'./28-12-24/net_epoch_{epoch}.pth', weights_only=True))\n",
    "    y_pred = get_predictions(torch.Tensor(final_val_features), model, 0.45)\n",
    "    # print(y_pred)\n",
    "\n",
    "    # Create a DataFrame to save to CSV\n",
    "    val_data_with_pred = pd.DataFrame(y_pred, columns=['Anger', 'Fear', 'Joy', 'Sadness', 'Surprise'])  # Adjust column names as per your features\n",
    "    # val_data_with_pred['True_Label'] = y_test\n",
    "    # val_data_with_pred['Predictions'] = dummy_predictions\n",
    "\n",
    "    val_data_with_pred = val_data_with_pred.astype(int)\n",
    "\n",
    "    val_data_with_pred['id'] = val['id']\n",
    "\n",
    "    val_data_with_pred = val_data_with_pred[['id', 'Anger', 'Fear', 'Joy', 'Sadness', 'Surprise']]\n",
    "\n",
    "    # Save to CSV\n",
    "    current_time = datetime.datetime.now()\n",
    "    formatted_time = current_time.strftime('%Y-%m-%d_%H_%M_%S')\n",
    "\n",
    "    val_data_with_pred.to_csv(f'../results/alt5_0/alt5_epoch_{epoch}_pred_eng_a_{formatted_time}.csv', index=False)\n",
    "\n",
    "    print(val_data_with_pred)"
   ]
  },
  {
   "cell_type": "markdown",
   "metadata": {},
   "source": [
    "---"
   ]
  },
  {
   "cell_type": "markdown",
   "metadata": {},
   "source": [
    "1. For Submission 5 files:\n",
    "\n",
    "    Your results for eng track A are:\n",
    "\n",
    "    Multi-label accuracy (Jaccard score): 0.26063218390804593\n",
    "\n",
    "    Micro F1 score: 0.41758241758241754\n",
    "\n",
    "    Macro F1 score: 0.36549662349391404\n",
    "\n",
    "2. For Submission 6 files:\n",
    "\n",
    "    Your results for eng track A are:\n",
    "\n",
    "    Multi-label accuracy (Jaccard score): 0.26206896551724135\n",
    "\n",
    "    Micro F1 score: 0.42659279778393355\n",
    "\n",
    "    Macro F1 score: 0.36911780259117266"
   ]
  },
  {
   "cell_type": "markdown",
   "metadata": {},
   "source": [
    "3. For Submission 8 files"
   ]
  },
  {
   "cell_type": "markdown",
   "metadata": {},
   "source": [
    "| Epoch | Jaccard Index       | Micro F1            | Macro F1            |\n",
    "| ----- | ------------------- | ------------------- | ------------------- |\n",
    "| 0     | 0.29094827586206906 | 0.4409171075837742  | 0.3952511404048909  |\n",
    "| 100   | 0.24080459770114943 | 0.39560439560439564 | 0.3420526643168152  |\n",
    "| 200   | 0.2548850574712644  | 0.4089635854341737  | 0.3569574389199279  |\n",
    "| 300   | 0.2548850574712644  | 0.41758241758241754 | 0.3576650885346538  |\n",
    "| 400   | 0.2557471264367816  | 0.4098360655737705  | 0.3598377304037682  |\n",
    "| 500   | 0.2530172413793103  | 0.41666666666666663 | 0.35474739097380603 |\n",
    "| 600   | 0.26379310344827583 | 0.41208791208791207 | 0.3499361424130125  |\n",
    "| 700   | 0.27241379310344827 | 0.42622950819672134 | 0.37301587301587297 |\n",
    "| 800   | 0.253448275862069   | 0.4098360655737705  | 0.3496649512518185  |\n",
    "| 900   | 0.25804597701149423 | 0.41961852861035426 | 0.37158938378169115 |"
   ]
  },
  {
   "cell_type": "markdown",
   "metadata": {},
   "source": [
    "---\n",
    "\n",
    "1. ALT 5 Epoch 0: \n",
    "\n",
    "Multi-label accuracy (Jaccard score): 0.26954022988505744\n",
    "\n",
    "Micro F1 score: 0.4201438848920864\n",
    "\n",
    "Macro F1 score: 0.40864974517443786\n",
    "\n",
    "2. ALT 5 Epoch 100: \n",
    "\n",
    "Multi-label accuracy (Jaccard score): 0.3070402298850575\n",
    "\n",
    "Micro F1 score: 0.4602649006622517\n",
    "\n",
    "Macro F1 score: 0.4274557175116834\n",
    "\n",
    "3. ALT 5 Epoch 200: \n",
    "\n",
    "Multi-label accuracy (Jaccard score): 0.2689655172413793\n",
    "\n",
    "Micro F1 score: 0.4114285714285714\n",
    "\n",
    "Macro F1 score: 0.36944836989062213\n",
    "\n",
    "4. ALT 5 Epoch 300: \n",
    "\n",
    "Multi-label accuracy (Jaccard score): 0.25244252873563217\n",
    "\n",
    "Micro F1 score: 0.3869653767820774\n",
    "\n",
    "Macro F1 score: 0.320969520516741"
   ]
  }
 ],
 "metadata": {
  "kernelspec": {
   "display_name": "base",
   "language": "python",
   "name": "python3"
  },
  "language_info": {
   "codemirror_mode": {
    "name": "ipython",
    "version": 3
   },
   "file_extension": ".py",
   "mimetype": "text/x-python",
   "name": "python",
   "nbconvert_exporter": "python",
   "pygments_lexer": "ipython3",
   "version": "3.9.13"
  }
 },
 "nbformat": 4,
 "nbformat_minor": 2
}
